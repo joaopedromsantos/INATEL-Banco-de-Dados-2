{
 "cells": [
  {
   "cell_type": "code",
   "execution_count": null,
   "id": "initial_id",
   "metadata": {
    "collapsed": true
   },
   "outputs": [],
   "source": [
    "from professor import Professor\n",
    "\n",
    "\n",
    "class Aula:\n",
    "    def __init__(self, professor: Professor, assunto: str, alunos: list = None):\n",
    "        self.professor = professor\n",
    "        self.assunto = assunto\n",
    "        self.alunos = alunos if alunos else []\n",
    "\n",
    "    def adicionar_aluno(self, aluno):\n",
    "        self.alunos.append(aluno)\n",
    "\n",
    "    def listar_presenca(self):\n",
    "        print(f'Presença na aula sobre {self.assunto}, ministrada pelo professor {self.professor.nome}:')\n",
    "        for aluno in self.alunos:\n",
    "            aluno.presenca()\n"
   ]
  },
  {
   "metadata": {},
   "cell_type": "code",
   "outputs": [],
   "execution_count": null,
   "source": "",
   "id": "fda3a7615ef35272"
  },
  {
   "metadata": {},
   "cell_type": "markdown",
   "source": "",
   "id": "bc869d8214eb58a5"
  },
  {
   "metadata": {},
   "cell_type": "code",
   "outputs": [],
   "execution_count": null,
   "source": "",
   "id": "a27ccbc3f9c69e8b"
  }
 ],
 "metadata": {
  "kernelspec": {
   "display_name": "Python 3",
   "language": "python",
   "name": "python3"
  },
  "language_info": {
   "codemirror_mode": {
    "name": "ipython",
    "version": 2
   },
   "file_extension": ".py",
   "mimetype": "text/x-python",
   "name": "python",
   "nbconvert_exporter": "python",
   "pygments_lexer": "ipython2",
   "version": "2.7.6"
  }
 },
 "nbformat": 4,
 "nbformat_minor": 5
}
